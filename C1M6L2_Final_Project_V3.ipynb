{
 "cells": [
  {
   "cell_type": "markdown",
   "metadata": {},
   "source": [
    "# Final Project - Word Cloud"
   ]
  },
  {
   "cell_type": "markdown",
   "metadata": {},
   "source": [
    "For this project, you'll create a \"word cloud\" from a text by writing a script.  This script needs to process the text, remove punctuation, ignore case and words that do not contain all alphabets, count the frequencies, and ignore uninteresting or irrelevant words.  A dictionary is the output of the `calculate_frequencies` function.  The `wordcloud` module will then generate the image from your dictionary."
   ]
  },
  {
   "cell_type": "markdown",
   "metadata": {},
   "source": [
    "For the input text of your script, you will need to provide a file that contains text only.  For the text itself, you can copy and paste the contents of a website you like.  Or you can use a site like [Project Gutenberg](https://www.gutenberg.org/) to find books that are available online.  You could see what word clouds you can get from famous books, like a Shakespeare play or a novel by Jane Austen. Save this as a .txt file somewhere on your computer.\n",
    "<br><br>\n",
    "Now you will need to upload your input file here so that your script will be able to process it.  To do the upload, you will need an uploader widget.  Run the following cell to perform all the installs and imports for your word cloud script and uploader widget.  It may take a minute for all of this to run and there will be a lot of output messages. But, be patient. Once you get the following final line of output, the code is done executing. Then you can continue on with the rest of the instructions for this notebook.\n",
    "<br><br>\n",
    "**Enabling notebook extension fileupload/extension...**\n",
    "<br>\n",
    "**- Validating: <font color =green>OK</font>**"
   ]
  },
  {
   "cell_type": "code",
   "execution_count": 3,
   "metadata": {},
   "outputs": [
    {
     "name": "stdout",
     "output_type": "stream",
     "text": [
      "Requirement already satisfied: wordcloud in /home/kiquetal/Documents/codes/2k22/python3-admin-course/venv/lib/python3.9/site-packages (1.8.1)\n",
      "Requirement already satisfied: numpy>=1.6.1 in /home/kiquetal/Documents/codes/2k22/python3-admin-course/venv/lib/python3.9/site-packages (from wordcloud) (1.22.3)\n",
      "Requirement already satisfied: matplotlib in /home/kiquetal/Documents/codes/2k22/python3-admin-course/venv/lib/python3.9/site-packages (from wordcloud) (3.5.1)\n",
      "Requirement already satisfied: pillow in /home/kiquetal/Documents/codes/2k22/python3-admin-course/venv/lib/python3.9/site-packages (from wordcloud) (9.1.0)\n",
      "Requirement already satisfied: packaging>=20.0 in /home/kiquetal/Documents/codes/2k22/python3-admin-course/venv/lib/python3.9/site-packages (from matplotlib->wordcloud) (21.3)\n",
      "Requirement already satisfied: kiwisolver>=1.0.1 in /home/kiquetal/Documents/codes/2k22/python3-admin-course/venv/lib/python3.9/site-packages (from matplotlib->wordcloud) (1.4.2)\n",
      "Requirement already satisfied: python-dateutil>=2.7 in /home/kiquetal/Documents/codes/2k22/python3-admin-course/venv/lib/python3.9/site-packages (from matplotlib->wordcloud) (2.8.2)\n",
      "Requirement already satisfied: cycler>=0.10 in /home/kiquetal/Documents/codes/2k22/python3-admin-course/venv/lib/python3.9/site-packages (from matplotlib->wordcloud) (0.11.0)\n",
      "Requirement already satisfied: pyparsing>=2.2.1 in /home/kiquetal/Documents/codes/2k22/python3-admin-course/venv/lib/python3.9/site-packages (from matplotlib->wordcloud) (3.0.7)\n",
      "Requirement already satisfied: fonttools>=4.22.0 in /home/kiquetal/Documents/codes/2k22/python3-admin-course/venv/lib/python3.9/site-packages (from matplotlib->wordcloud) (4.31.2)\n",
      "Requirement already satisfied: six>=1.5 in /home/kiquetal/Documents/codes/2k22/python3-admin-course/venv/lib/python3.9/site-packages (from python-dateutil>=2.7->matplotlib->wordcloud) (1.16.0)\n",
      "\u001b[33mWARNING: You are using pip version 21.1.2; however, version 22.0.4 is available.\n",
      "You should consider upgrading via the '/home/kiquetal/Documents/codes/2k22/python3-admin-course/venv/bin/python -m pip install --upgrade pip' command.\u001b[0m\n",
      "Requirement already satisfied: fileupload in /home/kiquetal/Documents/codes/2k22/python3-admin-course/venv/lib/python3.9/site-packages (0.1.5)\n",
      "Requirement already satisfied: traitlets>=4.2 in /home/kiquetal/Documents/codes/2k22/python3-admin-course/venv/lib/python3.9/site-packages (from fileupload) (5.1.1)\n",
      "Requirement already satisfied: ipywidgets>=5.1 in /home/kiquetal/Documents/codes/2k22/python3-admin-course/venv/lib/python3.9/site-packages (from fileupload) (7.7.0)\n",
      "Requirement already satisfied: notebook>=4.2 in /home/kiquetal/Documents/codes/2k22/python3-admin-course/venv/lib/python3.9/site-packages (from fileupload) (6.4.10)\n",
      "Requirement already satisfied: ipython>=4.0.0 in /home/kiquetal/Documents/codes/2k22/python3-admin-course/venv/lib/python3.9/site-packages (from ipywidgets>=5.1->fileupload) (8.2.0)\n",
      "Requirement already satisfied: nbformat>=4.2.0 in /home/kiquetal/Documents/codes/2k22/python3-admin-course/venv/lib/python3.9/site-packages (from ipywidgets>=5.1->fileupload) (5.2.0)\n",
      "Requirement already satisfied: widgetsnbextension~=3.6.0 in /home/kiquetal/Documents/codes/2k22/python3-admin-course/venv/lib/python3.9/site-packages (from ipywidgets>=5.1->fileupload) (3.6.0)\n",
      "Requirement already satisfied: ipykernel>=4.5.1 in /home/kiquetal/Documents/codes/2k22/python3-admin-course/venv/lib/python3.9/site-packages (from ipywidgets>=5.1->fileupload) (6.11.0)\n",
      "Requirement already satisfied: ipython-genutils~=0.2.0 in /home/kiquetal/Documents/codes/2k22/python3-admin-course/venv/lib/python3.9/site-packages (from ipywidgets>=5.1->fileupload) (0.2.0)\n",
      "Requirement already satisfied: jupyterlab-widgets>=1.0.0 in /home/kiquetal/Documents/codes/2k22/python3-admin-course/venv/lib/python3.9/site-packages (from ipywidgets>=5.1->fileupload) (1.1.0)\n",
      "Requirement already satisfied: matplotlib-inline>=0.1 in /home/kiquetal/Documents/codes/2k22/python3-admin-course/venv/lib/python3.9/site-packages (from ipykernel>=4.5.1->ipywidgets>=5.1->fileupload) (0.1.3)\n",
      "Requirement already satisfied: tornado>=6.1 in /home/kiquetal/Documents/codes/2k22/python3-admin-course/venv/lib/python3.9/site-packages (from ipykernel>=4.5.1->ipywidgets>=5.1->fileupload) (6.1)\n",
      "Requirement already satisfied: jupyter-client>=6.1.12 in /home/kiquetal/Documents/codes/2k22/python3-admin-course/venv/lib/python3.9/site-packages (from ipykernel>=4.5.1->ipywidgets>=5.1->fileupload) (7.2.1)\n",
      "Requirement already satisfied: psutil in /home/kiquetal/Documents/codes/2k22/python3-admin-course/venv/lib/python3.9/site-packages (from ipykernel>=4.5.1->ipywidgets>=5.1->fileupload) (5.9.0)\n",
      "Requirement already satisfied: nest-asyncio in /home/kiquetal/Documents/codes/2k22/python3-admin-course/venv/lib/python3.9/site-packages (from ipykernel>=4.5.1->ipywidgets>=5.1->fileupload) (1.5.4)\n",
      "Requirement already satisfied: debugpy>=1.0 in /home/kiquetal/Documents/codes/2k22/python3-admin-course/venv/lib/python3.9/site-packages (from ipykernel>=4.5.1->ipywidgets>=5.1->fileupload) (1.6.0)\n",
      "Requirement already satisfied: setuptools>=60 in /home/kiquetal/Documents/codes/2k22/python3-admin-course/venv/lib/python3.9/site-packages (from ipykernel>=4.5.1->ipywidgets>=5.1->fileupload) (61.3.1)\n",
      "Requirement already satisfied: pygments>=2.4.0 in /home/kiquetal/Documents/codes/2k22/python3-admin-course/venv/lib/python3.9/site-packages (from ipython>=4.0.0->ipywidgets>=5.1->fileupload) (2.11.2)\n",
      "Requirement already satisfied: prompt-toolkit!=3.0.0,!=3.0.1,<3.1.0,>=2.0.0 in /home/kiquetal/Documents/codes/2k22/python3-admin-course/venv/lib/python3.9/site-packages (from ipython>=4.0.0->ipywidgets>=5.1->fileupload) (3.0.28)\n",
      "Requirement already satisfied: pickleshare in /home/kiquetal/Documents/codes/2k22/python3-admin-course/venv/lib/python3.9/site-packages (from ipython>=4.0.0->ipywidgets>=5.1->fileupload) (0.7.5)\n",
      "Requirement already satisfied: stack-data in /home/kiquetal/Documents/codes/2k22/python3-admin-course/venv/lib/python3.9/site-packages (from ipython>=4.0.0->ipywidgets>=5.1->fileupload) (0.2.0)\n",
      "Requirement already satisfied: pexpect>4.3 in /home/kiquetal/Documents/codes/2k22/python3-admin-course/venv/lib/python3.9/site-packages (from ipython>=4.0.0->ipywidgets>=5.1->fileupload) (4.8.0)\n",
      "Requirement already satisfied: backcall in /home/kiquetal/Documents/codes/2k22/python3-admin-course/venv/lib/python3.9/site-packages (from ipython>=4.0.0->ipywidgets>=5.1->fileupload) (0.2.0)\n",
      "Requirement already satisfied: jedi>=0.16 in /home/kiquetal/Documents/codes/2k22/python3-admin-course/venv/lib/python3.9/site-packages (from ipython>=4.0.0->ipywidgets>=5.1->fileupload) (0.18.1)\n",
      "Requirement already satisfied: decorator in /home/kiquetal/Documents/codes/2k22/python3-admin-course/venv/lib/python3.9/site-packages (from ipython>=4.0.0->ipywidgets>=5.1->fileupload) (5.1.1)\n",
      "Requirement already satisfied: parso<0.9.0,>=0.8.0 in /home/kiquetal/Documents/codes/2k22/python3-admin-course/venv/lib/python3.9/site-packages (from jedi>=0.16->ipython>=4.0.0->ipywidgets>=5.1->fileupload) (0.8.3)\n",
      "Requirement already satisfied: entrypoints in /home/kiquetal/Documents/codes/2k22/python3-admin-course/venv/lib/python3.9/site-packages (from jupyter-client>=6.1.12->ipykernel>=4.5.1->ipywidgets>=5.1->fileupload) (0.4)\n",
      "Requirement already satisfied: jupyter-core>=4.9.2 in /home/kiquetal/Documents/codes/2k22/python3-admin-course/venv/lib/python3.9/site-packages (from jupyter-client>=6.1.12->ipykernel>=4.5.1->ipywidgets>=5.1->fileupload) (4.9.2)\n",
      "Requirement already satisfied: python-dateutil>=2.8.2 in /home/kiquetal/Documents/codes/2k22/python3-admin-course/venv/lib/python3.9/site-packages (from jupyter-client>=6.1.12->ipykernel>=4.5.1->ipywidgets>=5.1->fileupload) (2.8.2)\n",
      "Requirement already satisfied: pyzmq>=22.3 in /home/kiquetal/Documents/codes/2k22/python3-admin-course/venv/lib/python3.9/site-packages (from jupyter-client>=6.1.12->ipykernel>=4.5.1->ipywidgets>=5.1->fileupload) (22.3.0)\n",
      "Requirement already satisfied: jsonschema!=2.5.0,>=2.4 in /home/kiquetal/Documents/codes/2k22/python3-admin-course/venv/lib/python3.9/site-packages (from nbformat>=4.2.0->ipywidgets>=5.1->fileupload) (4.4.0)\n"
     ]
    },
    {
     "name": "stdout",
     "output_type": "stream",
     "text": [
      "Requirement already satisfied: attrs>=17.4.0 in /home/kiquetal/Documents/codes/2k22/python3-admin-course/venv/lib/python3.9/site-packages (from jsonschema!=2.5.0,>=2.4->nbformat>=4.2.0->ipywidgets>=5.1->fileupload) (21.4.0)\n",
      "Requirement already satisfied: pyrsistent!=0.17.0,!=0.17.1,!=0.17.2,>=0.14.0 in /home/kiquetal/Documents/codes/2k22/python3-admin-course/venv/lib/python3.9/site-packages (from jsonschema!=2.5.0,>=2.4->nbformat>=4.2.0->ipywidgets>=5.1->fileupload) (0.18.1)\n",
      "Requirement already satisfied: Send2Trash>=1.8.0 in /home/kiquetal/Documents/codes/2k22/python3-admin-course/venv/lib/python3.9/site-packages (from notebook>=4.2->fileupload) (1.8.0)\n",
      "Requirement already satisfied: prometheus-client in /home/kiquetal/Documents/codes/2k22/python3-admin-course/venv/lib/python3.9/site-packages (from notebook>=4.2->fileupload) (0.13.1)\n",
      "Requirement already satisfied: nbconvert>=5 in /home/kiquetal/Documents/codes/2k22/python3-admin-course/venv/lib/python3.9/site-packages (from notebook>=4.2->fileupload) (6.4.5)\n",
      "Requirement already satisfied: argon2-cffi in /home/kiquetal/Documents/codes/2k22/python3-admin-course/venv/lib/python3.9/site-packages (from notebook>=4.2->fileupload) (21.3.0)\n",
      "Requirement already satisfied: jinja2 in /home/kiquetal/Documents/codes/2k22/python3-admin-course/venv/lib/python3.9/site-packages (from notebook>=4.2->fileupload) (3.1.1)\n",
      "Requirement already satisfied: terminado>=0.8.3 in /home/kiquetal/Documents/codes/2k22/python3-admin-course/venv/lib/python3.9/site-packages (from notebook>=4.2->fileupload) (0.13.3)\n",
      "Requirement already satisfied: bleach in /home/kiquetal/Documents/codes/2k22/python3-admin-course/venv/lib/python3.9/site-packages (from nbconvert>=5->notebook>=4.2->fileupload) (4.1.0)\n",
      "Requirement already satisfied: testpath in /home/kiquetal/Documents/codes/2k22/python3-admin-course/venv/lib/python3.9/site-packages (from nbconvert>=5->notebook>=4.2->fileupload) (0.6.0)\n",
      "Requirement already satisfied: mistune<2,>=0.8.1 in /home/kiquetal/Documents/codes/2k22/python3-admin-course/venv/lib/python3.9/site-packages (from nbconvert>=5->notebook>=4.2->fileupload) (0.8.4)\n",
      "Requirement already satisfied: defusedxml in /home/kiquetal/Documents/codes/2k22/python3-admin-course/venv/lib/python3.9/site-packages (from nbconvert>=5->notebook>=4.2->fileupload) (0.7.1)\n",
      "Requirement already satisfied: pandocfilters>=1.4.1 in /home/kiquetal/Documents/codes/2k22/python3-admin-course/venv/lib/python3.9/site-packages (from nbconvert>=5->notebook>=4.2->fileupload) (1.5.0)\n",
      "Requirement already satisfied: MarkupSafe>=2.0 in /home/kiquetal/Documents/codes/2k22/python3-admin-course/venv/lib/python3.9/site-packages (from nbconvert>=5->notebook>=4.2->fileupload) (2.1.1)\n",
      "Requirement already satisfied: jupyterlab-pygments in /home/kiquetal/Documents/codes/2k22/python3-admin-course/venv/lib/python3.9/site-packages (from nbconvert>=5->notebook>=4.2->fileupload) (0.1.2)\n",
      "Requirement already satisfied: nbclient<0.6.0,>=0.5.0 in /home/kiquetal/Documents/codes/2k22/python3-admin-course/venv/lib/python3.9/site-packages (from nbconvert>=5->notebook>=4.2->fileupload) (0.5.13)\n",
      "Requirement already satisfied: beautifulsoup4 in /home/kiquetal/Documents/codes/2k22/python3-admin-course/venv/lib/python3.9/site-packages (from nbconvert>=5->notebook>=4.2->fileupload) (4.10.0)\n",
      "Requirement already satisfied: ptyprocess>=0.5 in /home/kiquetal/Documents/codes/2k22/python3-admin-course/venv/lib/python3.9/site-packages (from pexpect>4.3->ipython>=4.0.0->ipywidgets>=5.1->fileupload) (0.7.0)\n",
      "Requirement already satisfied: wcwidth in /home/kiquetal/Documents/codes/2k22/python3-admin-course/venv/lib/python3.9/site-packages (from prompt-toolkit!=3.0.0,!=3.0.1,<3.1.0,>=2.0.0->ipython>=4.0.0->ipywidgets>=5.1->fileupload) (0.2.5)\n",
      "Requirement already satisfied: six>=1.5 in /home/kiquetal/Documents/codes/2k22/python3-admin-course/venv/lib/python3.9/site-packages (from python-dateutil>=2.8.2->jupyter-client>=6.1.12->ipykernel>=4.5.1->ipywidgets>=5.1->fileupload) (1.16.0)\n",
      "Requirement already satisfied: argon2-cffi-bindings in /home/kiquetal/Documents/codes/2k22/python3-admin-course/venv/lib/python3.9/site-packages (from argon2-cffi->notebook>=4.2->fileupload) (21.2.0)\n",
      "Requirement already satisfied: cffi>=1.0.1 in /home/kiquetal/Documents/codes/2k22/python3-admin-course/venv/lib/python3.9/site-packages (from argon2-cffi-bindings->argon2-cffi->notebook>=4.2->fileupload) (1.15.0)\n",
      "Requirement already satisfied: pycparser in /home/kiquetal/Documents/codes/2k22/python3-admin-course/venv/lib/python3.9/site-packages (from cffi>=1.0.1->argon2-cffi-bindings->argon2-cffi->notebook>=4.2->fileupload) (2.21)\n",
      "Requirement already satisfied: soupsieve>1.2 in /home/kiquetal/Documents/codes/2k22/python3-admin-course/venv/lib/python3.9/site-packages (from beautifulsoup4->nbconvert>=5->notebook>=4.2->fileupload) (2.3.1)\n",
      "Requirement already satisfied: packaging in /home/kiquetal/Documents/codes/2k22/python3-admin-course/venv/lib/python3.9/site-packages (from bleach->nbconvert>=5->notebook>=4.2->fileupload) (21.3)\n",
      "Requirement already satisfied: webencodings in /home/kiquetal/Documents/codes/2k22/python3-admin-course/venv/lib/python3.9/site-packages (from bleach->nbconvert>=5->notebook>=4.2->fileupload) (0.5.1)\n",
      "Requirement already satisfied: pyparsing!=3.0.5,>=2.0.2 in /home/kiquetal/Documents/codes/2k22/python3-admin-course/venv/lib/python3.9/site-packages (from packaging->bleach->nbconvert>=5->notebook>=4.2->fileupload) (3.0.7)\n",
      "Requirement already satisfied: pure-eval in /home/kiquetal/Documents/codes/2k22/python3-admin-course/venv/lib/python3.9/site-packages (from stack-data->ipython>=4.0.0->ipywidgets>=5.1->fileupload) (0.2.2)\n",
      "Requirement already satisfied: asttokens in /home/kiquetal/Documents/codes/2k22/python3-admin-course/venv/lib/python3.9/site-packages (from stack-data->ipython>=4.0.0->ipywidgets>=5.1->fileupload) (2.0.5)\n",
      "Requirement already satisfied: executing in /home/kiquetal/Documents/codes/2k22/python3-admin-course/venv/lib/python3.9/site-packages (from stack-data->ipython>=4.0.0->ipywidgets>=5.1->fileupload) (0.8.3)\n",
      "\u001b[33mWARNING: You are using pip version 21.1.2; however, version 22.0.4 is available.\n",
      "You should consider upgrading via the '/home/kiquetal/Documents/codes/2k22/python3-admin-course/venv/bin/python -m pip install --upgrade pip' command.\u001b[0m\n",
      "Requirement already satisfied: ipywidgets in /home/kiquetal/Documents/codes/2k22/python3-admin-course/venv/lib/python3.9/site-packages (7.7.0)\n",
      "Requirement already satisfied: widgetsnbextension~=3.6.0 in /home/kiquetal/Documents/codes/2k22/python3-admin-course/venv/lib/python3.9/site-packages (from ipywidgets) (3.6.0)\n",
      "Requirement already satisfied: jupyterlab-widgets>=1.0.0 in /home/kiquetal/Documents/codes/2k22/python3-admin-course/venv/lib/python3.9/site-packages (from ipywidgets) (1.1.0)\n",
      "Requirement already satisfied: ipython-genutils~=0.2.0 in /home/kiquetal/Documents/codes/2k22/python3-admin-course/venv/lib/python3.9/site-packages (from ipywidgets) (0.2.0)\n",
      "Requirement already satisfied: ipython>=4.0.0 in /home/kiquetal/Documents/codes/2k22/python3-admin-course/venv/lib/python3.9/site-packages (from ipywidgets) (8.2.0)\n",
      "Requirement already satisfied: ipykernel>=4.5.1 in /home/kiquetal/Documents/codes/2k22/python3-admin-course/venv/lib/python3.9/site-packages (from ipywidgets) (6.11.0)\n",
      "Requirement already satisfied: nbformat>=4.2.0 in /home/kiquetal/Documents/codes/2k22/python3-admin-course/venv/lib/python3.9/site-packages (from ipywidgets) (5.2.0)\n",
      "Requirement already satisfied: traitlets>=4.3.1 in /home/kiquetal/Documents/codes/2k22/python3-admin-course/venv/lib/python3.9/site-packages (from ipywidgets) (5.1.1)\n",
      "Requirement already satisfied: tornado>=6.1 in /home/kiquetal/Documents/codes/2k22/python3-admin-course/venv/lib/python3.9/site-packages (from ipykernel>=4.5.1->ipywidgets) (6.1)\n",
      "Requirement already satisfied: debugpy>=1.0 in /home/kiquetal/Documents/codes/2k22/python3-admin-course/venv/lib/python3.9/site-packages (from ipykernel>=4.5.1->ipywidgets) (1.6.0)\n",
      "Requirement already satisfied: nest-asyncio in /home/kiquetal/Documents/codes/2k22/python3-admin-course/venv/lib/python3.9/site-packages (from ipykernel>=4.5.1->ipywidgets) (1.5.4)\n",
      "Requirement already satisfied: psutil in /home/kiquetal/Documents/codes/2k22/python3-admin-course/venv/lib/python3.9/site-packages (from ipykernel>=4.5.1->ipywidgets) (5.9.0)\n",
      "Requirement already satisfied: matplotlib-inline>=0.1 in /home/kiquetal/Documents/codes/2k22/python3-admin-course/venv/lib/python3.9/site-packages (from ipykernel>=4.5.1->ipywidgets) (0.1.3)\n",
      "Requirement already satisfied: jupyter-client>=6.1.12 in /home/kiquetal/Documents/codes/2k22/python3-admin-course/venv/lib/python3.9/site-packages (from ipykernel>=4.5.1->ipywidgets) (7.2.1)\n",
      "Requirement already satisfied: setuptools>=60 in /home/kiquetal/Documents/codes/2k22/python3-admin-course/venv/lib/python3.9/site-packages (from ipykernel>=4.5.1->ipywidgets) (61.3.1)\n"
     ]
    },
    {
     "name": "stdout",
     "output_type": "stream",
     "text": [
      "Requirement already satisfied: pickleshare in /home/kiquetal/Documents/codes/2k22/python3-admin-course/venv/lib/python3.9/site-packages (from ipython>=4.0.0->ipywidgets) (0.7.5)\n",
      "Requirement already satisfied: jedi>=0.16 in /home/kiquetal/Documents/codes/2k22/python3-admin-course/venv/lib/python3.9/site-packages (from ipython>=4.0.0->ipywidgets) (0.18.1)\n",
      "Requirement already satisfied: decorator in /home/kiquetal/Documents/codes/2k22/python3-admin-course/venv/lib/python3.9/site-packages (from ipython>=4.0.0->ipywidgets) (5.1.1)\n",
      "Requirement already satisfied: prompt-toolkit!=3.0.0,!=3.0.1,<3.1.0,>=2.0.0 in /home/kiquetal/Documents/codes/2k22/python3-admin-course/venv/lib/python3.9/site-packages (from ipython>=4.0.0->ipywidgets) (3.0.28)\n",
      "Requirement already satisfied: pygments>=2.4.0 in /home/kiquetal/Documents/codes/2k22/python3-admin-course/venv/lib/python3.9/site-packages (from ipython>=4.0.0->ipywidgets) (2.11.2)\n",
      "Requirement already satisfied: pexpect>4.3 in /home/kiquetal/Documents/codes/2k22/python3-admin-course/venv/lib/python3.9/site-packages (from ipython>=4.0.0->ipywidgets) (4.8.0)\n",
      "Requirement already satisfied: backcall in /home/kiquetal/Documents/codes/2k22/python3-admin-course/venv/lib/python3.9/site-packages (from ipython>=4.0.0->ipywidgets) (0.2.0)\n",
      "Requirement already satisfied: stack-data in /home/kiquetal/Documents/codes/2k22/python3-admin-course/venv/lib/python3.9/site-packages (from ipython>=4.0.0->ipywidgets) (0.2.0)\n",
      "Requirement already satisfied: parso<0.9.0,>=0.8.0 in /home/kiquetal/Documents/codes/2k22/python3-admin-course/venv/lib/python3.9/site-packages (from jedi>=0.16->ipython>=4.0.0->ipywidgets) (0.8.3)\n",
      "Requirement already satisfied: jupyter-core>=4.9.2 in /home/kiquetal/Documents/codes/2k22/python3-admin-course/venv/lib/python3.9/site-packages (from jupyter-client>=6.1.12->ipykernel>=4.5.1->ipywidgets) (4.9.2)\n",
      "Requirement already satisfied: entrypoints in /home/kiquetal/Documents/codes/2k22/python3-admin-course/venv/lib/python3.9/site-packages (from jupyter-client>=6.1.12->ipykernel>=4.5.1->ipywidgets) (0.4)\n",
      "Requirement already satisfied: pyzmq>=22.3 in /home/kiquetal/Documents/codes/2k22/python3-admin-course/venv/lib/python3.9/site-packages (from jupyter-client>=6.1.12->ipykernel>=4.5.1->ipywidgets) (22.3.0)\n",
      "Requirement already satisfied: python-dateutil>=2.8.2 in /home/kiquetal/Documents/codes/2k22/python3-admin-course/venv/lib/python3.9/site-packages (from jupyter-client>=6.1.12->ipykernel>=4.5.1->ipywidgets) (2.8.2)\n",
      "Requirement already satisfied: jsonschema!=2.5.0,>=2.4 in /home/kiquetal/Documents/codes/2k22/python3-admin-course/venv/lib/python3.9/site-packages (from nbformat>=4.2.0->ipywidgets) (4.4.0)\n",
      "Requirement already satisfied: attrs>=17.4.0 in /home/kiquetal/Documents/codes/2k22/python3-admin-course/venv/lib/python3.9/site-packages (from jsonschema!=2.5.0,>=2.4->nbformat>=4.2.0->ipywidgets) (21.4.0)\n",
      "Requirement already satisfied: pyrsistent!=0.17.0,!=0.17.1,!=0.17.2,>=0.14.0 in /home/kiquetal/Documents/codes/2k22/python3-admin-course/venv/lib/python3.9/site-packages (from jsonschema!=2.5.0,>=2.4->nbformat>=4.2.0->ipywidgets) (0.18.1)\n",
      "Requirement already satisfied: ptyprocess>=0.5 in /home/kiquetal/Documents/codes/2k22/python3-admin-course/venv/lib/python3.9/site-packages (from pexpect>4.3->ipython>=4.0.0->ipywidgets) (0.7.0)\n",
      "Requirement already satisfied: wcwidth in /home/kiquetal/Documents/codes/2k22/python3-admin-course/venv/lib/python3.9/site-packages (from prompt-toolkit!=3.0.0,!=3.0.1,<3.1.0,>=2.0.0->ipython>=4.0.0->ipywidgets) (0.2.5)\n",
      "Requirement already satisfied: six>=1.5 in /home/kiquetal/Documents/codes/2k22/python3-admin-course/venv/lib/python3.9/site-packages (from python-dateutil>=2.8.2->jupyter-client>=6.1.12->ipykernel>=4.5.1->ipywidgets) (1.16.0)\n",
      "Requirement already satisfied: notebook>=4.4.1 in /home/kiquetal/Documents/codes/2k22/python3-admin-course/venv/lib/python3.9/site-packages (from widgetsnbextension~=3.6.0->ipywidgets) (6.4.10)\n",
      "Requirement already satisfied: Send2Trash>=1.8.0 in /home/kiquetal/Documents/codes/2k22/python3-admin-course/venv/lib/python3.9/site-packages (from notebook>=4.4.1->widgetsnbextension~=3.6.0->ipywidgets) (1.8.0)\n",
      "Requirement already satisfied: argon2-cffi in /home/kiquetal/Documents/codes/2k22/python3-admin-course/venv/lib/python3.9/site-packages (from notebook>=4.4.1->widgetsnbextension~=3.6.0->ipywidgets) (21.3.0)\n",
      "Requirement already satisfied: terminado>=0.8.3 in /home/kiquetal/Documents/codes/2k22/python3-admin-course/venv/lib/python3.9/site-packages (from notebook>=4.4.1->widgetsnbextension~=3.6.0->ipywidgets) (0.13.3)\n",
      "Requirement already satisfied: prometheus-client in /home/kiquetal/Documents/codes/2k22/python3-admin-course/venv/lib/python3.9/site-packages (from notebook>=4.4.1->widgetsnbextension~=3.6.0->ipywidgets) (0.13.1)\n",
      "Requirement already satisfied: nbconvert>=5 in /home/kiquetal/Documents/codes/2k22/python3-admin-course/venv/lib/python3.9/site-packages (from notebook>=4.4.1->widgetsnbextension~=3.6.0->ipywidgets) (6.4.5)\n",
      "Requirement already satisfied: jinja2 in /home/kiquetal/Documents/codes/2k22/python3-admin-course/venv/lib/python3.9/site-packages (from notebook>=4.4.1->widgetsnbextension~=3.6.0->ipywidgets) (3.1.1)\n",
      "Requirement already satisfied: defusedxml in /home/kiquetal/Documents/codes/2k22/python3-admin-course/venv/lib/python3.9/site-packages (from nbconvert>=5->notebook>=4.4.1->widgetsnbextension~=3.6.0->ipywidgets) (0.7.1)\n",
      "Requirement already satisfied: jupyterlab-pygments in /home/kiquetal/Documents/codes/2k22/python3-admin-course/venv/lib/python3.9/site-packages (from nbconvert>=5->notebook>=4.4.1->widgetsnbextension~=3.6.0->ipywidgets) (0.1.2)\n",
      "Requirement already satisfied: MarkupSafe>=2.0 in /home/kiquetal/Documents/codes/2k22/python3-admin-course/venv/lib/python3.9/site-packages (from nbconvert>=5->notebook>=4.4.1->widgetsnbextension~=3.6.0->ipywidgets) (2.1.1)\n",
      "Requirement already satisfied: pandocfilters>=1.4.1 in /home/kiquetal/Documents/codes/2k22/python3-admin-course/venv/lib/python3.9/site-packages (from nbconvert>=5->notebook>=4.4.1->widgetsnbextension~=3.6.0->ipywidgets) (1.5.0)\n",
      "Requirement already satisfied: nbclient<0.6.0,>=0.5.0 in /home/kiquetal/Documents/codes/2k22/python3-admin-course/venv/lib/python3.9/site-packages (from nbconvert>=5->notebook>=4.4.1->widgetsnbextension~=3.6.0->ipywidgets) (0.5.13)\n",
      "Requirement already satisfied: bleach in /home/kiquetal/Documents/codes/2k22/python3-admin-course/venv/lib/python3.9/site-packages (from nbconvert>=5->notebook>=4.4.1->widgetsnbextension~=3.6.0->ipywidgets) (4.1.0)\n",
      "Requirement already satisfied: mistune<2,>=0.8.1 in /home/kiquetal/Documents/codes/2k22/python3-admin-course/venv/lib/python3.9/site-packages (from nbconvert>=5->notebook>=4.4.1->widgetsnbextension~=3.6.0->ipywidgets) (0.8.4)\n",
      "Requirement already satisfied: testpath in /home/kiquetal/Documents/codes/2k22/python3-admin-course/venv/lib/python3.9/site-packages (from nbconvert>=5->notebook>=4.4.1->widgetsnbextension~=3.6.0->ipywidgets) (0.6.0)\n",
      "Requirement already satisfied: beautifulsoup4 in /home/kiquetal/Documents/codes/2k22/python3-admin-course/venv/lib/python3.9/site-packages (from nbconvert>=5->notebook>=4.4.1->widgetsnbextension~=3.6.0->ipywidgets) (4.10.0)\n",
      "Requirement already satisfied: argon2-cffi-bindings in /home/kiquetal/Documents/codes/2k22/python3-admin-course/venv/lib/python3.9/site-packages (from argon2-cffi->notebook>=4.4.1->widgetsnbextension~=3.6.0->ipywidgets) (21.2.0)\n",
      "Requirement already satisfied: cffi>=1.0.1 in /home/kiquetal/Documents/codes/2k22/python3-admin-course/venv/lib/python3.9/site-packages (from argon2-cffi-bindings->argon2-cffi->notebook>=4.4.1->widgetsnbextension~=3.6.0->ipywidgets) (1.15.0)\n",
      "Requirement already satisfied: pycparser in /home/kiquetal/Documents/codes/2k22/python3-admin-course/venv/lib/python3.9/site-packages (from cffi>=1.0.1->argon2-cffi-bindings->argon2-cffi->notebook>=4.4.1->widgetsnbextension~=3.6.0->ipywidgets) (2.21)\n",
      "Requirement already satisfied: soupsieve>1.2 in /home/kiquetal/Documents/codes/2k22/python3-admin-course/venv/lib/python3.9/site-packages (from beautifulsoup4->nbconvert>=5->notebook>=4.4.1->widgetsnbextension~=3.6.0->ipywidgets) (2.3.1)\n",
      "Requirement already satisfied: packaging in /home/kiquetal/Documents/codes/2k22/python3-admin-course/venv/lib/python3.9/site-packages (from bleach->nbconvert>=5->notebook>=4.4.1->widgetsnbextension~=3.6.0->ipywidgets) (21.3)\n",
      "Requirement already satisfied: webencodings in /home/kiquetal/Documents/codes/2k22/python3-admin-course/venv/lib/python3.9/site-packages (from bleach->nbconvert>=5->notebook>=4.4.1->widgetsnbextension~=3.6.0->ipywidgets) (0.5.1)\n"
     ]
    },
    {
     "name": "stdout",
     "output_type": "stream",
     "text": [
      "Requirement already satisfied: pyparsing!=3.0.5,>=2.0.2 in /home/kiquetal/Documents/codes/2k22/python3-admin-course/venv/lib/python3.9/site-packages (from packaging->bleach->nbconvert>=5->notebook>=4.4.1->widgetsnbextension~=3.6.0->ipywidgets) (3.0.7)\n",
      "Requirement already satisfied: pure-eval in /home/kiquetal/Documents/codes/2k22/python3-admin-course/venv/lib/python3.9/site-packages (from stack-data->ipython>=4.0.0->ipywidgets) (0.2.2)\n",
      "Requirement already satisfied: executing in /home/kiquetal/Documents/codes/2k22/python3-admin-course/venv/lib/python3.9/site-packages (from stack-data->ipython>=4.0.0->ipywidgets) (0.8.3)\n",
      "Requirement already satisfied: asttokens in /home/kiquetal/Documents/codes/2k22/python3-admin-course/venv/lib/python3.9/site-packages (from stack-data->ipython>=4.0.0->ipywidgets) (2.0.5)\n",
      "\u001b[33mWARNING: You are using pip version 21.1.2; however, version 22.0.4 is available.\n",
      "You should consider upgrading via the '/home/kiquetal/Documents/codes/2k22/python3-admin-course/venv/bin/python -m pip install --upgrade pip' command.\u001b[0m\n",
      "Installing /home/kiquetal/Documents/codes/2k22/python3-admin-course/venv/lib/python3.9/site-packages/fileupload/static -> fileupload\n",
      "Up to date: /home/kiquetal/.local/share/jupyter/nbextensions/fileupload/widget.js\n",
      "Up to date: /home/kiquetal/.local/share/jupyter/nbextensions/fileupload/extension.js\n",
      "Up to date: /home/kiquetal/.local/share/jupyter/nbextensions/fileupload/fileupload/widget.js\n",
      "- Validating: \u001b[32mOK\u001b[0m\n",
      "\n",
      "    To initialize this nbextension in the browser every time the notebook (or other app) loads:\n",
      "    \n",
      "          jupyter nbextension enable fileupload --user --py\n",
      "    \n",
      "Enabling notebook extension fileupload/extension...\n",
      "      - Validating: \u001b[32mOK\u001b[0m\n"
     ]
    }
   ],
   "source": [
    "# Here are all the installs and imports you will need for your word cloud script and uploader widget\n",
    "\n",
    "!pip install wordcloud\n",
    "!pip install fileupload\n",
    "!pip install ipywidgets\n",
    "!jupyter nbextension install --py --user fileupload\n",
    "!jupyter nbextension enable --py fileupload\n",
    "\n",
    "import wordcloud\n",
    "import numpy as np\n",
    "from matplotlib import pyplot as plt\n",
    "from IPython.display import display\n",
    "import fileupload\n",
    "import io\n",
    "import sys"
   ]
  },
  {
   "cell_type": "markdown",
   "metadata": {},
   "source": [
    "Whew! That was a lot. All of the installs and imports for your word cloud script and uploader widget have been completed. \n",
    "<br><br>\n",
    "**IMPORTANT!** If this was your first time running the above cell containing the installs and imports, you will need save this notebook now. Then under the File menu above,  select Close and Halt. When the notebook has completely shut down, reopen it. This is the only way the necessary changes will take affect.\n",
    "<br><br>\n",
    "To upload your text file, run the following cell that contains all the code for a custom uploader widget. Once you run this cell, a \"Browse\" button should appear below it. Click this button and navigate the window to locate your saved text file."
   ]
  },
  {
   "cell_type": "code",
   "execution_count": 4,
   "metadata": {
    "scrolled": false
   },
   "outputs": [
    {
     "data": {
      "application/vnd.jupyter.widget-view+json": {
       "model_id": "18fd38d718a4484eade22391434c8ec9",
       "version_major": 2,
       "version_minor": 0
      },
      "text/plain": [
       "FileUploadWidget(label='Browse', _dom_classes=('widget_item', 'btn-group'))"
      ]
     },
     "metadata": {},
     "output_type": "display_data"
    },
    {
     "name": "stdout",
     "output_type": "stream",
     "text": [
      "Uploaded `lewis.txt` (10.92 kB)\n"
     ]
    }
   ],
   "source": [
    "# This is the uploader widget\n",
    "\n",
    "def _upload():\n",
    "\n",
    "    _upload_widget = fileupload.FileUploadWidget()\n",
    "\n",
    "    def _cb(change):\n",
    "        global file_contents\n",
    "        decoded = io.StringIO(change['owner'].data.decode('utf-8'))\n",
    "        filename = change['owner'].filename\n",
    "        print('Uploaded `{}` ({:.2f} kB)'.format(\n",
    "            filename, len(decoded.read()) / 2 **10))\n",
    "        file_contents = decoded.getvalue()\n",
    "\n",
    "    _upload_widget.observe(_cb, names='data')\n",
    "    display(_upload_widget)\n",
    "\n",
    "_upload()"
   ]
  },
  {
   "cell_type": "markdown",
   "metadata": {},
   "source": [
    "The uploader widget saved the contents of your uploaded file into a string object named *file_contents* that your word cloud script can process. This was a lot of preliminary work, but you are now ready to begin your script. "
   ]
  },
  {
   "cell_type": "markdown",
   "metadata": {},
   "source": [
    "Write a function in the cell below that iterates through the words in *file_contents*, removes punctuation, and counts the frequency of each word.  Oh, and be sure to make it ignore word case, words that do not contain all alphabets and boring words like \"and\" or \"the\".  Then use it in the `generate_from_frequencies` function to generate your very own word cloud!\n",
    "<br><br>\n",
    "**Hint:** Try storing the results of your iteration in a dictionary before passing them into wordcloud via the `generate_from_frequencies` function."
   ]
  },
  {
   "cell_type": "code",
   "execution_count": 27,
   "metadata": {},
   "outputs": [],
   "source": [
    "def calculate_frequencies(file_contents):\n",
    "    # Here is a list of punctuations and uninteresting words you can use to process your text\n",
    "    punctuations = '''!()-[]{};:'\"\\,<>./?@#$%^&*_~'''\n",
    "    uninteresting_words = [\"the\", \"a\", \"to\", \"if\", \"is\", \"it\", \"of\", \"and\", \"or\", \"an\", \"as\", \"i\", \"me\", \"my\", \\\n",
    "    \"we\", \"our\", \"ours\", \"you\", \"your\", \"yours\", \"he\", \"she\", \"him\", \"his\", \"her\", \"hers\", \"its\", \"they\", \"them\", \\\n",
    "    \"their\", \"what\", \"which\", \"who\", \"whom\", \"this\", \"that\", \"am\", \"are\", \"was\", \"were\", \"be\", \"been\", \"being\", \\\n",
    "    \"have\", \"has\", \"had\", \"do\", \"does\", \"did\", \"but\", \"at\", \"by\", \"with\", \"from\", \"here\", \"when\", \"where\", \"how\", \\\n",
    "    \"all\", \"any\", \"both\", \"each\", \"few\", \"more\", \"some\", \"such\", \"no\", \"nor\", \"too\", \"very\", \"can\", \"will\", \"just\"]\n",
    "    \n",
    "    # LEARNER CODE START HERE\n",
    "    frequency = {}\n",
    "    for word in file_contents:\n",
    "        w = remove_punctuation(punctuations,word)\n",
    "        if w not in uninteresting_words:\n",
    "            frequency[w.lower()]=frequency.get(w.lower(),0)+1   \n",
    "    #wordcloud\n",
    "    cloud = wordcloud.WordCloud()\n",
    "    cloud.generate_from_frequencies(frequency)\n",
    "    return cloud.to_array()\n",
    "\n",
    "def remove_punctuation(punctucations, word):\n",
    "    for char in punctucations:\n",
    "        if (char in word):\n",
    "            myword = word.replace(char,\"\")\n",
    "        else:\n",
    "            myword = word\n",
    "    return myword"
   ]
  },
  {
   "cell_type": "markdown",
   "metadata": {},
   "source": [
    "If you have done everything correctly, your word cloud image should appear after running the cell below.  Fingers crossed!"
   ]
  },
  {
   "cell_type": "code",
   "execution_count": 28,
   "metadata": {},
   "outputs": [
    {
     "data": {
      "image/png": "[encoded data removed]",
      "text/plain": [
       "<Figure size 432x288 with 1 Axes>"
      ]
     },
     "metadata": {
      "needs_background": "light"
     },
     "output_type": "display_data"
    }
   ],
   "source": [
    "# Display your wordcloud image\n",
    "\n",
    "myimage = calculate_frequencies(file_contents)\n",
    "plt.imshow(myimage, interpolation = 'nearest')\n",
    "plt.axis('off')\n",
    "plt.show()"
   ]
  },
  {
   "cell_type": "markdown",
   "metadata": {},
   "source": [
    "If your word cloud image did not appear, go back and rework your `calculate_frequencies` function until you get the desired output.  Definitely check that you passed your frequecy count dictionary into the `generate_from_frequencies` function of `wordcloud`. Once you have correctly displayed your word cloud image, you are all done with this project. Nice work!"
   ]
  },
  {
   "cell_type": "code",
   "execution_count": null,
   "metadata": {},
   "outputs": [],
   "source": []
  },
  {
   "cell_type": "code",
   "execution_count": null,
   "metadata": {},
   "outputs": [],
   "source": []
  }
 ],
 "metadata": {
  "coursera": {
   "course_slug": "python-crash-course",
   "graded_item_id": "Z5d28",
   "launcher_item_id": "eSjyd"
  },
  "kernelspec": {
   "display_name": "Python 3 (ipykernel)",
   "language": "python",
   "name": "python3"
  },
  "language_info": {
   "codemirror_mode": {
    "name": "ipython",
    "version": 3
   },
   "file_extension": ".py",
   "mimetype": "text/x-python",
   "name": "python",
   "nbconvert_exporter": "python",
   "pygments_lexer": "ipython3",
   "version": "3.9.7"
  },
  "widgets": {
   "application/vnd.jupyter.widget-state+json": {
    "state": {},
    "version_major": 2,
    "version_minor": 0
   }
  }
 },
 "nbformat": 4,
 "nbformat_minor": 2
}
