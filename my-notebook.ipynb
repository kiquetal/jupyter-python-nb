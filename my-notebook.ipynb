{
 "cells": [
  {
   "cell_type": "code",
   "execution_count": 2,
   "metadata": {
    "collapsed": true
   },
   "outputs": [],
   "source": [
    "class Elevator:\n",
    "    def __init__(self,bottom,top,current):\n",
    "        \"\"\"\" Initialize the Elevator instance. \"\"\"\n",
    "        self.bottom = 0\n",
    "        self.top = 0\n",
    "        self.current = 0\n",
    "    def up(self):\n",
    "        \"\"\" Move the elevator up. \"\"\"\n",
    "        pass\n",
    "    def down(self):\n",
    "        \"\"\" Move the elevator down. \"\"\"\n",
    "        pass\n",
    "    def go_to(self,floor):\n",
    "        \"\"\" Move the elevator to a specific floor. \"\"\"\n",
    "        self.current = floor\n",
    "\n",
    "ele = Elevator(-1,10,0)"
   ]
  },
  {
   "cell_type": "code",
   "execution_count": 3,
   "outputs": [
    {
     "name": "stdout",
     "output_type": "stream",
     "text": [
      "Help on Elevator in module __main__ object:\n",
      "\n",
      "class Elevator(builtins.object)\n",
      " |  Elevator(bottom, top, current)\n",
      " |  \n",
      " |  Methods defined here:\n",
      " |  \n",
      " |  __init__(self, bottom, top, current)\n",
      " |      \" Initialize the Elevator instance.\n",
      " |  \n",
      " |  down(self)\n",
      " |      Move the elevator down.\n",
      " |  \n",
      " |  go_to(self, floor)\n",
      " |      Move the elevator to a specific floor.\n",
      " |  \n",
      " |  up(self)\n",
      " |      Move the elevator up.\n",
      " |  \n",
      " |  ----------------------------------------------------------------------\n",
      " |  Data descriptors defined here:\n",
      " |  \n",
      " |  __dict__\n",
      " |      dictionary for instance variables (if defined)\n",
      " |  \n",
      " |  __weakref__\n",
      " |      list of weak references to the object (if defined)\n",
      "\n"
     ]
    }
   ],
   "source": [
    "help(ele)"
   ],
   "metadata": {
    "collapsed": false,
    "pycharm": {
     "name": "#%%\n"
    }
   }
  },
  {
   "cell_type": "code",
   "execution_count": 6,
   "outputs": [],
   "source": [
    "ele.go_to(10)\n"
   ],
   "metadata": {
    "collapsed": false,
    "pycharm": {
     "name": "#%%\n"
    }
   }
  },
  {
   "cell_type": "code",
   "execution_count": 7,
   "outputs": [
    {
     "data": {
      "text/plain": "10"
     },
     "execution_count": 7,
     "metadata": {},
     "output_type": "execute_result"
    }
   ],
   "source": [
    "ele.current\n"
   ],
   "metadata": {
    "collapsed": false,
    "pycharm": {
     "name": "#%%\n"
    }
   }
  },
  {
   "cell_type": "code",
   "execution_count": 6,
   "outputs": [
    {
     "name": "stdout",
     "output_type": "stream",
     "text": [
      "hola\n",
      "quetal\n"
     ]
    }
   ],
   "source": [
    "punctuations = '''!()-[]{};:'\"\\,<>./?@#$%^&*_~'''\n",
    "uninteresting_words = [\"the\", \"a\", \"to\", \"if\", \"is\", \"it\", \"of\", \"and\", \"or\", \"an\", \"as\", \"i\", \"me\", \"my\",\n",
    "                       \"we\", \"our\", \"ours\", \"you\", \"your\", \"yours\", \"he\", \"she\", \"him\", \"his\", \"her\", \"hers\", \"its\", \"they\", \"them\",\n",
    "                       \"their\", \"what\", \"which\", \"who\", \"whom\", \"this\", \"that\", \"am\", \"are\", \"was\", \"were\", \"be\", \"been\", \"being\",\n",
    "                       \"have\", \"has\", \"had\", \"do\", \"does\", \"did\", \"but\", \"at\", \"by\", \"with\", \"from\", \"here\", \"when\", \"where\", \"how\",\n",
    "                       \"all\", \"any\", \"both\", \"each\", \"few\", \"more\", \"some\", \"such\", \"no\", \"nor\", \"too\", \"very\", \"can\", \"will\", \"just\"]\n",
    "words = [\"hola!\",\"quetal]\",\"this\"]\n",
    "\n",
    "\n",
    "v = \"sda\"\n",
    "v.lower()\n",
    "\n",
    "def remove_punctuation(punctucations, word):\n",
    "    freciency = {}\n",
    "    for char in punctucations:\n",
    "        word = word.replace(char, \"\")\n",
    "    if word not in uninteresting_words:\n",
    "        freciency[word.low] = freciency.get(word, 0) + 1\n",
    "    return word\n",
    "\n"
   ],
   "metadata": {
    "collapsed": false,
    "pycharm": {
     "name": "#%%\n"
    }
   }
  },
  {
   "cell_type": "code",
   "execution_count": null,
   "outputs": [],
   "source": [],
   "metadata": {
    "collapsed": false,
    "pycharm": {
     "name": "#%%\n"
    }
   }
  }
 ],
 "metadata": {
  "kernelspec": {
   "display_name": "Python 3",
   "language": "python",
   "name": "python3"
  },
  "language_info": {
   "codemirror_mode": {
    "name": "ipython",
    "version": 2
   },
   "file_extension": ".py",
   "mimetype": "text/x-python",
   "name": "python",
   "nbconvert_exporter": "python",
   "pygments_lexer": "ipython2",
   "version": "2.7.6"
  }
 },
 "nbformat": 4,
 "nbformat_minor": 0
}